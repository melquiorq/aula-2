{
  "nbformat": 4,
  "nbformat_minor": 0,
  "metadata": {
    "colab": {
      "name": "Aula 2 - Numpy: Arrays.ipynb",
      "provenance": [],
      "collapsed_sections": []
    },
    "kernelspec": {
      "name": "python3",
      "display_name": "Python 3"
    },
    "language_info": {
      "name": "python"
    }
  },
  "cells": [
    {
      "cell_type": "markdown",
      "source": [
        "# Aula 2 - Numpy: Arrays"
      ],
      "metadata": {
        "id": "4vwYaEbEZ4nY"
      }
    },
    {
      "cell_type": "markdown",
      "source": [
        "Prof. Tiago Dias\n",
        "\n",
        "[Linkedin](https://www.linkedin.com/in/diasctiago/) | [Github](https://github.com/diasctiago) | [Blog](https://www.dadosaocubo.com/)"
      ],
      "metadata": {
        "id": "VrGqrCrkaCuu"
      }
    },
    {
      "cell_type": "markdown",
      "source": [
        "## O que é NumPy?"
      ],
      "metadata": {
        "id": "3tJjkEuEiBcX"
      }
    },
    {
      "cell_type": "markdown",
      "source": [
        "O NumPy oferece funções matemáticas, geradores de números aleatórios, rotinas de álgebra linear, transformadas de Fourier e muito mais.\n",
        "\n",
        "Com o NumPy é possível trabalhar com numeros em todas as suas formas, como exemplificado na figura abaixo."
      ],
      "metadata": {
        "id": "W3-C-Fowift6"
      }
    },
    {
      "cell_type": "markdown",
      "source": [
        "| ![Dados](https://i0.wp.com/dadosaocubo.com/wp-content/uploads/2020/07/image1-3.png?w=880&ssl=1) |\n",
        "|:--:| \n",
        "| **Figura** – _Escalares, vetores, matrizes e tensores_ (Fonte da imagem: internet, autor desconhecido) |"
      ],
      "metadata": {
        "id": "pdLcW1kbhn5X"
      }
    },
    {
      "cell_type": "markdown",
      "source": [
        "*   **Escalar -** O escalar é um número qualquer\n",
        "*   **Vetor -** O vetor são vários escalares em uma representação unidimensional (uma dimensão)\n",
        "*   **Matriz -** A matriz são vetores bidimensionais (duas dimensões)\n",
        "*   **TENSOR** - O tensor são as junções de matrizes (três dimensões)\n",
        "\n"
      ],
      "metadata": {
        "id": "tlN_6WOLjO5f"
      }
    },
    {
      "cell_type": "markdown",
      "source": [
        "## Prática com numpy"
      ],
      "metadata": {
        "id": "dGiQ08BMiJkx"
      }
    },
    {
      "cell_type": "code",
      "source": [
        "# Instalando a biblioteca\n"
      ],
      "metadata": {
        "id": "kR1RrqnrN3fl"
      },
      "execution_count": null,
      "outputs": []
    },
    {
      "cell_type": "code",
      "source": [
        "# importando a biblioteca\n"
      ],
      "metadata": {
        "id": "wAx7pwYENqqs"
      },
      "execution_count": null,
      "outputs": []
    },
    {
      "cell_type": "markdown",
      "source": [
        "O elemento básico do NumPy é o **ndarray** e é dessa forma que trabalhamos com os valores no NumPy."
      ],
      "metadata": {
        "id": "Mncj9_nsmZyc"
      }
    },
    {
      "cell_type": "code",
      "source": [
        "# criando um array com Numpy\n"
      ],
      "metadata": {
        "id": "AP4VcnqcNqnX"
      },
      "execution_count": null,
      "outputs": []
    },
    {
      "cell_type": "code",
      "source": [
        "# listando o array\n"
      ],
      "metadata": {
        "id": "PqLrRjBLNqkL"
      },
      "execution_count": null,
      "outputs": []
    },
    {
      "cell_type": "code",
      "source": [
        "# verificando o tipo do array\n"
      ],
      "metadata": {
        "id": "lK80mJxjNqg1"
      },
      "execution_count": null,
      "outputs": []
    },
    {
      "cell_type": "code",
      "source": [
        "# criando um array de strings com Numpy\n"
      ],
      "metadata": {
        "id": "w9i5qkzDqEpL"
      },
      "execution_count": null,
      "outputs": []
    },
    {
      "cell_type": "code",
      "source": [
        "# listando o array\n"
      ],
      "metadata": {
        "id": "umeZefGZqKlk"
      },
      "execution_count": null,
      "outputs": []
    },
    {
      "cell_type": "code",
      "source": [
        "# verificando o tipo do array\n"
      ],
      "metadata": {
        "id": "ENSvKTZwqM5a"
      },
      "execution_count": null,
      "outputs": []
    },
    {
      "cell_type": "markdown",
      "source": [
        "### Qual a diferença entre uma lista e um array NumPy?"
      ],
      "metadata": {
        "id": "pqdxTqYLq2iZ"
      }
    },
    {
      "cell_type": "code",
      "source": [
        "# criando um array misto com Numpy\n"
      ],
      "metadata": {
        "id": "SeGDukncqWol"
      },
      "execution_count": null,
      "outputs": []
    },
    {
      "cell_type": "code",
      "source": [
        "# listando o vetor misto\n"
      ],
      "metadata": {
        "id": "JiUCJrWUqd5i"
      },
      "execution_count": null,
      "outputs": []
    },
    {
      "cell_type": "code",
      "source": [
        "# criando uma lista mista\n"
      ],
      "metadata": {
        "id": "1dRwjjLTqdsL"
      },
      "execution_count": null,
      "outputs": []
    },
    {
      "cell_type": "code",
      "source": [
        "# listando a lista mista\n"
      ],
      "metadata": {
        "id": "B3ZZwVRIqnOh"
      },
      "execution_count": null,
      "outputs": []
    },
    {
      "cell_type": "markdown",
      "source": [
        "Enquando as listas não precisam ser homogeneas, os vetores arrays NumPy devem ser homogeneos. Isso torna mais rápido e eficiente de criar e manipular dados numéricos dentro dos arrays NumPy."
      ],
      "metadata": {
        "id": "OhCTm-GTq-5R"
      }
    },
    {
      "cell_type": "markdown",
      "source": [
        "### Funções com NumPy"
      ],
      "metadata": {
        "id": "M1Qaut1ks99H"
      }
    },
    {
      "cell_type": "code",
      "source": [
        "# criando um array de zeros\n"
      ],
      "metadata": {
        "id": "ifTPcU8_raAI"
      },
      "execution_count": null,
      "outputs": []
    },
    {
      "cell_type": "code",
      "source": [
        "# criando um array de uns\n"
      ],
      "metadata": {
        "id": "pC_BDSZEradk"
      },
      "execution_count": null,
      "outputs": []
    },
    {
      "cell_type": "code",
      "source": [
        "# criando um array de números específicos\n"
      ],
      "metadata": {
        "id": "9bG6f-9CyBAv"
      },
      "execution_count": null,
      "outputs": []
    },
    {
      "cell_type": "code",
      "source": [
        "# criando um array com range\n"
      ],
      "metadata": {
        "id": "nDy6crJYraam"
      },
      "execution_count": null,
      "outputs": []
    },
    {
      "cell_type": "code",
      "source": [
        "# criando um array com range, start, stop e step\n"
      ],
      "metadata": {
        "id": "RvW92cfuraXP"
      },
      "execution_count": null,
      "outputs": []
    },
    {
      "cell_type": "code",
      "source": [
        "# criando um array com linspace\n"
      ],
      "metadata": {
        "id": "C2nIIC8NraUI"
      },
      "execution_count": null,
      "outputs": []
    },
    {
      "cell_type": "code",
      "source": [
        "# criando um array\n"
      ],
      "metadata": {
        "id": "y_q9jdGGuAcF"
      },
      "execution_count": null,
      "outputs": []
    },
    {
      "cell_type": "code",
      "source": [
        "# ordenando o array\n"
      ],
      "metadata": {
        "id": "rch8E_OKuIBP"
      },
      "execution_count": null,
      "outputs": []
    },
    {
      "cell_type": "code",
      "source": [
        "# juntando arrays\n"
      ],
      "metadata": {
        "id": "9nA8lnlNt-ic"
      },
      "execution_count": null,
      "outputs": []
    },
    {
      "cell_type": "code",
      "source": [
        "# verificando a dimensão de um array\n"
      ],
      "metadata": {
        "id": "5y7SsKKMugGC"
      },
      "execution_count": null,
      "outputs": []
    },
    {
      "cell_type": "code",
      "source": [
        "# verificando o tamanho de um array\n"
      ],
      "metadata": {
        "id": "U2x4NjxWumAH"
      },
      "execution_count": null,
      "outputs": []
    },
    {
      "cell_type": "code",
      "source": [
        "# verificando o tamanho de elementos e dimensões de um array\n"
      ],
      "metadata": {
        "id": "5zXdjRFyurZ6"
      },
      "execution_count": null,
      "outputs": []
    },
    {
      "cell_type": "code",
      "source": [
        "# acessando array por indice, primeiro e último item\n"
      ],
      "metadata": {
        "id": "wEFYh5uuvI5U"
      },
      "execution_count": null,
      "outputs": []
    },
    {
      "cell_type": "code",
      "source": [
        "# fatiando o array\n"
      ],
      "metadata": {
        "id": "f2F8TVwrvX_x"
      },
      "execution_count": null,
      "outputs": []
    },
    {
      "cell_type": "code",
      "source": [
        "# soma, maximo e minimo de um array\n"
      ],
      "metadata": {
        "id": "O_eEG7Ubv6H6"
      },
      "execution_count": null,
      "outputs": []
    },
    {
      "cell_type": "code",
      "source": [
        "# copiando um array\n"
      ],
      "metadata": {
        "id": "ZWVbmu5qvqUc"
      },
      "execution_count": null,
      "outputs": []
    },
    {
      "cell_type": "code",
      "source": [
        "# somando 2 arrays\n"
      ],
      "metadata": {
        "id": "5phIoSvJxSLW"
      },
      "execution_count": null,
      "outputs": []
    },
    {
      "cell_type": "code",
      "source": [
        "# subtraindo 2 arrays\n"
      ],
      "metadata": {
        "id": "tn4ek0g4xbvx"
      },
      "execution_count": null,
      "outputs": []
    },
    {
      "cell_type": "code",
      "source": [
        "# multiplicando 2 arrays\n"
      ],
      "metadata": {
        "id": "TxPNaMXbxhUG"
      },
      "execution_count": null,
      "outputs": []
    },
    {
      "cell_type": "code",
      "source": [
        "# dividindo 2 arrays\n"
      ],
      "metadata": {
        "id": "ilVGHtaSxrvL"
      },
      "execution_count": null,
      "outputs": []
    },
    {
      "cell_type": "markdown",
      "source": [
        "### Estudo de Caso"
      ],
      "metadata": {
        "id": "dzXtB6Vex9jJ"
      }
    },
    {
      "cell_type": "markdown",
      "source": [
        "Como criar um array a partir de uma lista, expor suas informações (dimensões e elementos), identificar elementos específicos e realizar operações matemáticas?"
      ],
      "metadata": {
        "id": "Kkz5-lBTx__Z"
      }
    },
    {
      "cell_type": "code",
      "source": [
        "import numpy as np\n",
        "lista = []\n",
        "for n in range(0,31):\n",
        "  i = n*3\n",
        "  lista.append(i)\n",
        "print(lista)\n",
        "array30 = np.array(lista)\n",
        "print(array30)\n"
      ],
      "metadata": {
        "id": "ddh4yweKyA9H",
        "outputId": "b5bef55c-10e2-475d-983d-f834be9a8152",
        "colab": {
          "base_uri": "https://localhost:8080/"
        }
      },
      "execution_count": 6,
      "outputs": [
        {
          "output_type": "stream",
          "name": "stdout",
          "text": [
            "[0, 3, 6, 9, 12, 15, 18, 21, 24, 27, 30, 33, 36, 39, 42, 45, 48, 51, 54, 57, 60, 63, 66, 69, 72, 75, 78, 81, 84, 87, 90]\n",
            "[ 0  3  6  9 12 15 18 21 24 27 30 33 36 39 42 45 48 51 54 57 60 63 66 69\n",
            " 72 75 78 81 84 87 90]\n"
          ]
        }
      ]
    },
    {
      "cell_type": "code",
      "source": [],
      "metadata": {
        "id": "mRxtlTzbyBWR"
      },
      "execution_count": null,
      "outputs": []
    },
    {
      "cell_type": "code",
      "source": [],
      "metadata": {
        "id": "wQGSkXSkyBQQ"
      },
      "execution_count": null,
      "outputs": []
    },
    {
      "cell_type": "code",
      "source": [],
      "metadata": {
        "id": "En65wd07nEzo"
      },
      "execution_count": null,
      "outputs": []
    },
    {
      "cell_type": "code",
      "source": [],
      "metadata": {
        "id": "cnBR9DCRwOeU"
      },
      "execution_count": null,
      "outputs": []
    },
    {
      "cell_type": "code",
      "source": [],
      "metadata": {
        "id": "wbxh-r5hwOXV"
      },
      "execution_count": null,
      "outputs": []
    },
    {
      "cell_type": "code",
      "source": [],
      "metadata": {
        "id": "sT0h6iW7wNz1"
      },
      "execution_count": null,
      "outputs": []
    },
    {
      "cell_type": "code",
      "source": [],
      "metadata": {
        "id": "e7MS0bN9wWKU"
      },
      "execution_count": null,
      "outputs": []
    },
    {
      "cell_type": "code",
      "source": [],
      "metadata": {
        "id": "_oigSWfYwZHF"
      },
      "execution_count": null,
      "outputs": []
    },
    {
      "cell_type": "markdown",
      "source": [
        "## Atividade"
      ],
      "metadata": {
        "id": "N4HZ2tUTo-Gt"
      }
    },
    {
      "cell_type": "markdown",
      "source": [
        "**Questão 1 -** Crie uma lista do Python que contenha 30 inteiros aleatórios (entre 0 e 100). Em seguida, a partir da lista criada anteriormente, crie um array do Numpy, utilizando a função array."
      ],
      "metadata": {
        "id": "3aCoUmR1pAtt"
      }
    },
    {
      "cell_type": "code",
      "source": [
        "import numpy as np\n",
        "lista = []\n",
        "for n in range(0,31):\n",
        "  i = n*3\n",
        "  lista.append(i)\n",
        "print(lista)\n",
        "array30 = np.array(lista)\n",
        "print(array30)\n"
      ],
      "metadata": {
        "id": "OK6hSEmUpHY3",
        "outputId": "565a8d23-3932-4cda-c373-a42ce8ede283",
        "colab": {
          "base_uri": "https://localhost:8080/"
        }
      },
      "execution_count": 7,
      "outputs": [
        {
          "output_type": "stream",
          "name": "stdout",
          "text": [
            "[0, 3, 6, 9, 12, 15, 18, 21, 24, 27, 30, 33, 36, 39, 42, 45, 48, 51, 54, 57, 60, 63, 66, 69, 72, 75, 78, 81, 84, 87, 90]\n",
            "[ 0  3  6  9 12 15 18 21 24 27 30 33 36 39 42 45 48 51 54 57 60 63 66 69\n",
            " 72 75 78 81 84 87 90]\n"
          ]
        }
      ]
    },
    {
      "cell_type": "code",
      "source": [],
      "metadata": {
        "id": "0k7lveKPqq-s"
      },
      "execution_count": null,
      "outputs": []
    },
    {
      "cell_type": "code",
      "source": [],
      "metadata": {
        "id": "Lf0QPVOSqq15"
      },
      "execution_count": null,
      "outputs": []
    },
    {
      "cell_type": "code",
      "source": [],
      "metadata": {
        "id": "QNPHBudirBxk"
      },
      "execution_count": null,
      "outputs": []
    },
    {
      "cell_type": "code",
      "source": [
        "# números aleatórios entre 0 e 1\n"
      ],
      "metadata": {
        "id": "qdJFHvaqyWQi"
      },
      "execution_count": null,
      "outputs": []
    },
    {
      "cell_type": "code",
      "source": [
        "# números aleatórios inteiros\n"
      ],
      "metadata": {
        "id": "ptbQZvf5ydHX"
      },
      "execution_count": null,
      "outputs": []
    },
    {
      "cell_type": "markdown",
      "source": [
        "**Questão 2 -** Crie um array com 10 elementos (iniciando em zero), em que os elementos tenham um intervalo de 3 unidades entre si."
      ],
      "metadata": {
        "id": "AWBoXsoapOzx"
      }
    },
    {
      "cell_type": "code",
      "source": [
        "import numpy as np\n",
        "\n",
        "array10 = np.arange(0,(10*3)+0,3)\n",
        "print(array10)\n"
      ],
      "metadata": {
        "id": "oCL7CA9-pUtK",
        "outputId": "3683a6ea-3770-484b-be6a-ba01ca73f5c0",
        "colab": {
          "base_uri": "https://localhost:8080/"
        }
      },
      "execution_count": 16,
      "outputs": [
        {
          "output_type": "stream",
          "name": "stdout",
          "text": [
            "[ 0  3  6  9 12 15 18 21 24 27]\n"
          ]
        }
      ]
    },
    {
      "cell_type": "markdown",
      "source": [
        "**Questão 3 -** Para o array aleatório gerado na questão 1, obtenha:\n",
        "* O primeiro item\n",
        "* O último item\n",
        "* O valor mínimo\n",
        "* O valor máximo\n",
        "* A posição do valor mínimo\n",
        "* A posição do valor máximo\n"
      ],
      "metadata": {
        "id": "mTIxEcMrphLu"
      }
    },
    {
      "cell_type": "code",
      "source": [
        "print(array30[0])\n",
        "print(array30[-1])\n",
        "print(min(array30))\n",
        "print(max(array30))\n",
        "\n",
        "\n"
      ],
      "metadata": {
        "id": "TRyjGYHdptOK",
        "outputId": "113df005-2232-4f7d-c026-297c33973e7a",
        "colab": {
          "base_uri": "https://localhost:8080/",
          "height": 287
        }
      },
      "execution_count": 15,
      "outputs": [
        {
          "output_type": "stream",
          "name": "stdout",
          "text": [
            "0\n",
            "90\n",
            "0\n",
            "90\n"
          ]
        },
        {
          "output_type": "error",
          "ename": "TypeError",
          "evalue": "ignored",
          "traceback": [
            "\u001b[0;31m---------------------------------------------------------------------------\u001b[0m",
            "\u001b[0;31mTypeError\u001b[0m                                 Traceback (most recent call last)",
            "\u001b[0;32m<ipython-input-15-f179e137e7cb>\u001b[0m in \u001b[0;36m<module>\u001b[0;34m\u001b[0m\n\u001b[1;32m      3\u001b[0m \u001b[0mprint\u001b[0m\u001b[0;34m(\u001b[0m\u001b[0mmin\u001b[0m\u001b[0;34m(\u001b[0m\u001b[0marray30\u001b[0m\u001b[0;34m)\u001b[0m\u001b[0;34m)\u001b[0m\u001b[0;34m\u001b[0m\u001b[0;34m\u001b[0m\u001b[0m\n\u001b[1;32m      4\u001b[0m \u001b[0mprint\u001b[0m\u001b[0;34m(\u001b[0m\u001b[0mmax\u001b[0m\u001b[0;34m(\u001b[0m\u001b[0marray30\u001b[0m\u001b[0;34m)\u001b[0m\u001b[0;34m)\u001b[0m\u001b[0;34m\u001b[0m\u001b[0;34m\u001b[0m\u001b[0m\n\u001b[0;32m----> 5\u001b[0;31m \u001b[0mprint\u001b[0m\u001b[0;34m(\u001b[0m\u001b[0marray30\u001b[0m\u001b[0;34m(\u001b[0m\u001b[0mmin\u001b[0m\u001b[0;34m)\u001b[0m\u001b[0;34m)\u001b[0m\u001b[0;34m\u001b[0m\u001b[0;34m\u001b[0m\u001b[0m\n\u001b[0m\u001b[1;32m      6\u001b[0m \u001b[0;34m\u001b[0m\u001b[0m\n",
            "\u001b[0;31mTypeError\u001b[0m: 'numpy.ndarray' object is not callable"
          ]
        }
      ]
    },
    {
      "cell_type": "code",
      "source": [
        "# O primeiro item\n"
      ],
      "metadata": {
        "id": "Cm0QiijvsIBS"
      },
      "execution_count": null,
      "outputs": []
    },
    {
      "cell_type": "code",
      "source": [
        "# O último item\n"
      ],
      "metadata": {
        "id": "F9j_OY4isH8v"
      },
      "execution_count": null,
      "outputs": []
    },
    {
      "cell_type": "code",
      "source": [
        "# O valor mínimo\n"
      ],
      "metadata": {
        "id": "x0EONr7msH4L"
      },
      "execution_count": null,
      "outputs": []
    },
    {
      "cell_type": "code",
      "source": [
        "# O valor máximo\n"
      ],
      "metadata": {
        "id": "pZNZtBN8sH0C"
      },
      "execution_count": null,
      "outputs": []
    },
    {
      "cell_type": "code",
      "source": [
        "# A posição do valor mínimo\n"
      ],
      "metadata": {
        "id": "VyXklyxSsHvz"
      },
      "execution_count": null,
      "outputs": []
    },
    {
      "cell_type": "code",
      "source": [],
      "metadata": {
        "id": "IHJ_8Lqys7fN"
      },
      "execution_count": null,
      "outputs": []
    },
    {
      "cell_type": "code",
      "source": [
        "# A posição do valor máximo\n"
      ],
      "metadata": {
        "id": "kL4ifJcSsHqj"
      },
      "execution_count": null,
      "outputs": []
    },
    {
      "cell_type": "code",
      "source": [],
      "metadata": {
        "id": "k9Zsf6NutDda"
      },
      "execution_count": null,
      "outputs": []
    },
    {
      "cell_type": "markdown",
      "source": [
        "**Questão 4 -** Para o array aleatório gerado na questão 2, obtenha:\n",
        "* A soma\n",
        "* A média\n",
        "* A mediana\n",
        "* A variância\n",
        "* O desvio padrão"
      ],
      "metadata": {
        "id": "Y7LAbEzWptsC"
      }
    },
    {
      "cell_type": "code",
      "source": [
        "print(sum(array10))\n",
        "print(np.mean(array10))\n",
        "mediana = np.percentile(array10,50)\n",
        "print(mediana)\n",
        "print(np.var(array10))\n",
        "print(np.std(array10))"
      ],
      "metadata": {
        "id": "-BWdbOy6qTTH",
        "outputId": "a8eef472-269d-4c93-f05a-9007d70836f0",
        "colab": {
          "base_uri": "https://localhost:8080/"
        }
      },
      "execution_count": 24,
      "outputs": [
        {
          "output_type": "stream",
          "name": "stdout",
          "text": [
            "135\n",
            "13.5\n",
            "13.5\n",
            "74.25\n",
            "8.616843969807043\n"
          ]
        }
      ]
    },
    {
      "cell_type": "code",
      "source": [
        "# soma\n"
      ],
      "metadata": {
        "id": "oO3zVjSAtyKa"
      },
      "execution_count": null,
      "outputs": []
    },
    {
      "cell_type": "code",
      "source": [
        "# media\n"
      ],
      "metadata": {
        "id": "mCJbe8lmtx-9"
      },
      "execution_count": null,
      "outputs": []
    },
    {
      "cell_type": "code",
      "source": [
        "# mediana\n"
      ],
      "metadata": {
        "id": "zwKzvq2Otx11"
      },
      "execution_count": null,
      "outputs": []
    },
    {
      "cell_type": "code",
      "source": [
        "# variancia\n"
      ],
      "metadata": {
        "id": "eStEjcmMtxjL"
      },
      "execution_count": null,
      "outputs": []
    },
    {
      "cell_type": "code",
      "source": [
        "# desvio padrao\n"
      ],
      "metadata": {
        "id": "Ni0FnGuPtxZK"
      },
      "execution_count": null,
      "outputs": []
    },
    {
      "cell_type": "markdown",
      "source": [
        "**Questão 5 -** Solicite um input do usuário de 10 números separados por vírgula, crie um array somente com os números pares e impirma o resultado para o usuário."
      ],
      "metadata": {
        "id": "z1J0XgJJwuE0"
      }
    },
    {
      "cell_type": "code",
      "source": [
        "import numpy as np\n",
        "\n",
        "lista = []\n",
        "for n in range(0,11):\n",
        "  x = int(input('Digite um núemro: '))\n",
        "  if x %2 ==0:\n",
        "    lista.append(x)\n",
        "novo_array = np.array(lista)\n",
        "print(novo_array)\n",
        "type(novo_array)"
      ],
      "metadata": {
        "id": "rCZ6af0TxGSn",
        "outputId": "e9162247-ff1e-4e5d-dce6-d4e551604bf2",
        "colab": {
          "base_uri": "https://localhost:8080/"
        }
      },
      "execution_count": 32,
      "outputs": [
        {
          "output_type": "stream",
          "name": "stdout",
          "text": [
            "Digite um núemro: 1\n",
            "Digite um núemro: 2\n",
            "Digite um núemro: 3\n",
            "Digite um núemro: 4\n",
            "Digite um núemro: 5\n",
            "Digite um núemro: 6\n",
            "Digite um núemro: 7\n",
            "Digite um núemro: 8\n",
            "Digite um núemro: 9\n",
            "Digite um núemro: 10\n",
            "Digite um núemro: 11\n",
            "[ 2  4  6  8 10]\n"
          ]
        },
        {
          "output_type": "execute_result",
          "data": {
            "text/plain": [
              "numpy.ndarray"
            ]
          },
          "metadata": {},
          "execution_count": 32
        }
      ]
    },
    {
      "cell_type": "code",
      "source": [],
      "metadata": {
        "id": "W3VLVW-fxPtL"
      },
      "execution_count": null,
      "outputs": []
    },
    {
      "cell_type": "code",
      "source": [],
      "metadata": {
        "id": "DGImW10DxROY"
      },
      "execution_count": null,
      "outputs": []
    },
    {
      "cell_type": "code",
      "source": [],
      "metadata": {
        "id": "2VDnTOVBxoNH"
      },
      "execution_count": null,
      "outputs": []
    }
  ]
}