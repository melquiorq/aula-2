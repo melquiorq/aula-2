{
  "nbformat": 4,
  "nbformat_minor": 0,
  "metadata": {
    "colab": {
      "name": "Aula 2 - Numpy: Arrays.ipynb",
      "provenance": [],
      "collapsed_sections": []
    },
    "kernelspec": {
      "name": "python3",
      "display_name": "Python 3"
    },
    "language_info": {
      "name": "python"
    }
  },
  "cells": [
    {
      "cell_type": "markdown",
      "source": [
        "# Aula 2 - Numpy: Arrays"
      ],
      "metadata": {
        "id": "4vwYaEbEZ4nY"
      }
    },
    {
      "cell_type": "markdown",
      "source": [
        "Prof. Tiago Dias\n",
        "\n",
        "[Linkedin](https://www.linkedin.com/in/diasctiago/) | [Github](https://github.com/diasctiago) | [Blog](https://www.dadosaocubo.com/)"
      ],
      "metadata": {
        "id": "VrGqrCrkaCuu"
      }
    },
    {
      "cell_type": "markdown",
      "source": [
        "## O que é NumPy?"
      ],
      "metadata": {
        "id": "3tJjkEuEiBcX"
      }
    },
    {
      "cell_type": "markdown",
      "source": [
        "O NumPy oferece funções matemáticas, geradores de números aleatórios, rotinas de álgebra linear, transformadas de Fourier e muito mais.\n",
        "\n",
        "Com o NumPy é possível trabalhar com numeros em todas as suas formas, como exemplificado na figura abaixo."
      ],
      "metadata": {
        "id": "W3-C-Fowift6"
      }
    },
    {
      "cell_type": "markdown",
      "source": [
        "| ![Dados](https://i0.wp.com/dadosaocubo.com/wp-content/uploads/2020/07/image1-3.png?w=880&ssl=1) |\n",
        "|:--:| \n",
        "| **Figura** – _Escalares, vetores, matrizes e tensores_ (Fonte da imagem: internet, autor desconhecido) |"
      ],
      "metadata": {
        "id": "pdLcW1kbhn5X"
      }
    },
    {
      "cell_type": "markdown",
      "source": [
        "*   **Escalar -** O escalar é um número qualquer\n",
        "*   **Vetor -** O vetor são vários escalares em uma representação unidimensional (uma dimensão)\n",
        "*   **Matriz -** A matriz são vetores bidimensionais (duas dimensões)\n",
        "*   **TENSOR** - O tensor são as junções de matrizes (três dimensões)\n",
        "\n"
      ],
      "metadata": {
        "id": "tlN_6WOLjO5f"
      }
    },
    {
      "cell_type": "markdown",
      "source": [
        "## Prática com numpy"
      ],
      "metadata": {
        "id": "dGiQ08BMiJkx"
      }
    },
    {
      "cell_type": "code",
      "source": [
        "# Instalando a biblioteca\n",
        "!pip install numpy"
      ],
      "metadata": {
        "colab": {
          "base_uri": "https://localhost:8080/"
        },
        "id": "kR1RrqnrN3fl",
        "outputId": "27f313ed-1fcc-4cf1-9612-8ecdf1a1634b"
      },
      "execution_count": null,
      "outputs": [
        {
          "output_type": "stream",
          "name": "stdout",
          "text": [
            "Looking in indexes: https://pypi.org/simple, https://us-python.pkg.dev/colab-wheels/public/simple/\n",
            "Requirement already satisfied: numpy in /usr/local/lib/python3.7/dist-packages (1.21.6)\n"
          ]
        }
      ]
    },
    {
      "cell_type": "code",
      "source": [
        "# importando a biblioteca\n",
        "import numpy as np"
      ],
      "metadata": {
        "id": "wAx7pwYENqqs"
      },
      "execution_count": null,
      "outputs": []
    },
    {
      "cell_type": "markdown",
      "source": [
        "O elemento básico do NumPy é o **ndarray** e é dessa forma que trabalhamos com os valores no NumPy."
      ],
      "metadata": {
        "id": "Mncj9_nsmZyc"
      }
    },
    {
      "cell_type": "code",
      "source": [
        "# criando um array com Numpy\n",
        "vetor = np.array([1,2,3,4,5])"
      ],
      "metadata": {
        "id": "AP4VcnqcNqnX"
      },
      "execution_count": null,
      "outputs": []
    },
    {
      "cell_type": "code",
      "source": [
        "# listando o array\n",
        "vetor"
      ],
      "metadata": {
        "colab": {
          "base_uri": "https://localhost:8080/"
        },
        "id": "PqLrRjBLNqkL",
        "outputId": "5f33d8b1-bdc8-42d7-ae10-f544e84259c1"
      },
      "execution_count": null,
      "outputs": [
        {
          "output_type": "execute_result",
          "data": {
            "text/plain": [
              "array([1, 2, 3, 4, 5])"
            ]
          },
          "metadata": {},
          "execution_count": 49
        }
      ]
    },
    {
      "cell_type": "code",
      "source": [
        "# verificando o tipo do array\n",
        "type(vetor)"
      ],
      "metadata": {
        "colab": {
          "base_uri": "https://localhost:8080/"
        },
        "id": "lK80mJxjNqg1",
        "outputId": "18df897b-307c-43d5-f162-9c930a60ff84"
      },
      "execution_count": null,
      "outputs": [
        {
          "output_type": "execute_result",
          "data": {
            "text/plain": [
              "numpy.ndarray"
            ]
          },
          "metadata": {},
          "execution_count": 50
        }
      ]
    },
    {
      "cell_type": "code",
      "source": [
        "# criando um array de strings com Numpy\n",
        "vetor_string = np.array(['a','b','c','d','e'])"
      ],
      "metadata": {
        "id": "w9i5qkzDqEpL"
      },
      "execution_count": null,
      "outputs": []
    },
    {
      "cell_type": "code",
      "source": [
        "# listando o array\n",
        "vetor_string"
      ],
      "metadata": {
        "colab": {
          "base_uri": "https://localhost:8080/"
        },
        "id": "umeZefGZqKlk",
        "outputId": "453cf0e8-10b7-47f3-d0b2-5d8b0de6419d"
      },
      "execution_count": null,
      "outputs": [
        {
          "output_type": "execute_result",
          "data": {
            "text/plain": [
              "array(['a', 'b', 'c', 'd', 'e'], dtype='<U1')"
            ]
          },
          "metadata": {},
          "execution_count": 52
        }
      ]
    },
    {
      "cell_type": "code",
      "source": [
        "# verificando o tipo do array\n",
        "type(vetor_string)"
      ],
      "metadata": {
        "colab": {
          "base_uri": "https://localhost:8080/"
        },
        "id": "ENSvKTZwqM5a",
        "outputId": "3af28201-ec13-486e-9a6e-990f589daf5b"
      },
      "execution_count": null,
      "outputs": [
        {
          "output_type": "execute_result",
          "data": {
            "text/plain": [
              "numpy.ndarray"
            ]
          },
          "metadata": {},
          "execution_count": 53
        }
      ]
    },
    {
      "cell_type": "markdown",
      "source": [
        "### Qual a diferença entre uma lista e um array NumPy?"
      ],
      "metadata": {
        "id": "pqdxTqYLq2iZ"
      }
    },
    {
      "cell_type": "code",
      "source": [
        "# criando um array misto com Numpy\n",
        "vetor_misto = np.array([1,'a',2,'b',3])"
      ],
      "metadata": {
        "id": "SeGDukncqWol"
      },
      "execution_count": null,
      "outputs": []
    },
    {
      "cell_type": "code",
      "source": [
        "# listando o vetor misto\n",
        "vetor_misto"
      ],
      "metadata": {
        "colab": {
          "base_uri": "https://localhost:8080/"
        },
        "id": "JiUCJrWUqd5i",
        "outputId": "e775b9c9-01ce-4cc5-a12f-f4d2139c3aa2"
      },
      "execution_count": null,
      "outputs": [
        {
          "output_type": "execute_result",
          "data": {
            "text/plain": [
              "array(['1', 'a', '2', 'b', '3'], dtype='<U21')"
            ]
          },
          "metadata": {},
          "execution_count": 55
        }
      ]
    },
    {
      "cell_type": "code",
      "source": [
        "# criando uma lista mista\n",
        "lista_mista = [1,'a',2,'b',3]"
      ],
      "metadata": {
        "id": "1dRwjjLTqdsL"
      },
      "execution_count": null,
      "outputs": []
    },
    {
      "cell_type": "code",
      "source": [
        "# listando a lista mista\n",
        "lista_mista"
      ],
      "metadata": {
        "colab": {
          "base_uri": "https://localhost:8080/"
        },
        "id": "B3ZZwVRIqnOh",
        "outputId": "7a4bdeca-123b-400c-e8ea-55b8b6e16ded"
      },
      "execution_count": null,
      "outputs": [
        {
          "output_type": "execute_result",
          "data": {
            "text/plain": [
              "[1, 'a', 2, 'b', 3]"
            ]
          },
          "metadata": {},
          "execution_count": 57
        }
      ]
    },
    {
      "cell_type": "markdown",
      "source": [
        "Enquando as listas não precisam ser homogeneas, os vetores arrays NumPy devem ser homogeneos. Isso torna mais rápido e eficiente de criar e manipular dados numéricos dentro dos arrays NumPy."
      ],
      "metadata": {
        "id": "OhCTm-GTq-5R"
      }
    },
    {
      "cell_type": "markdown",
      "source": [
        "### Funções com NumPy"
      ],
      "metadata": {
        "id": "M1Qaut1ks99H"
      }
    },
    {
      "cell_type": "code",
      "source": [
        "# criando um array de zeros\n",
        "np.zeros(8, dtype=int)"
      ],
      "metadata": {
        "colab": {
          "base_uri": "https://localhost:8080/"
        },
        "id": "ifTPcU8_raAI",
        "outputId": "46c0dd1e-9943-413c-e8f7-dd1bdc73f58a"
      },
      "execution_count": null,
      "outputs": [
        {
          "output_type": "execute_result",
          "data": {
            "text/plain": [
              "array([0, 0, 0, 0, 0, 0, 0, 0])"
            ]
          },
          "metadata": {},
          "execution_count": 62
        }
      ]
    },
    {
      "cell_type": "code",
      "source": [
        "# criando um array de uns\n",
        "np.ones(10, dtype=int)"
      ],
      "metadata": {
        "colab": {
          "base_uri": "https://localhost:8080/"
        },
        "id": "pC_BDSZEradk",
        "outputId": "8fdfd497-c6a5-4faa-ee6a-6bb921e91e79"
      },
      "execution_count": null,
      "outputs": [
        {
          "output_type": "execute_result",
          "data": {
            "text/plain": [
              "array([1, 1, 1, 1, 1, 1, 1, 1, 1, 1])"
            ]
          },
          "metadata": {},
          "execution_count": 66
        }
      ]
    },
    {
      "cell_type": "code",
      "source": [
        "# criando um array de números específicos\n",
        "np.full(10,7, dtype=float)"
      ],
      "metadata": {
        "colab": {
          "base_uri": "https://localhost:8080/"
        },
        "id": "9bG6f-9CyBAv",
        "outputId": "b235106c-d660-440f-e534-6627ac1b21e2"
      },
      "execution_count": null,
      "outputs": [
        {
          "output_type": "execute_result",
          "data": {
            "text/plain": [
              "array([7., 7., 7., 7., 7., 7., 7., 7., 7., 7.])"
            ]
          },
          "metadata": {},
          "execution_count": 76
        }
      ]
    },
    {
      "cell_type": "code",
      "source": [
        "# criando um array com range\n",
        "np.arange(20)"
      ],
      "metadata": {
        "colab": {
          "base_uri": "https://localhost:8080/"
        },
        "id": "nDy6crJYraam",
        "outputId": "17e2f778-515f-4d3f-e289-8af4bc7740cb"
      },
      "execution_count": null,
      "outputs": [
        {
          "output_type": "execute_result",
          "data": {
            "text/plain": [
              "array([ 0,  1,  2,  3,  4,  5,  6,  7,  8,  9, 10, 11, 12, 13, 14, 15, 16,\n",
              "       17, 18, 19])"
            ]
          },
          "metadata": {},
          "execution_count": 77
        }
      ]
    },
    {
      "cell_type": "code",
      "source": [
        "# range com start, stop (exclusivo) e step\n",
        "np.arange(1,20,2) "
      ],
      "metadata": {
        "colab": {
          "base_uri": "https://localhost:8080/"
        },
        "id": "kIoSaSGzxk61",
        "outputId": "4ac92b26-9eab-4788-cde2-eaf73b03cd01"
      },
      "execution_count": null,
      "outputs": [
        {
          "output_type": "execute_result",
          "data": {
            "text/plain": [
              "array([ 1,  3,  5,  7,  9, 11, 13, 15, 17, 19])"
            ]
          },
          "metadata": {},
          "execution_count": 83
        }
      ]
    },
    {
      "cell_type": "code",
      "source": [
        "# função range do python\n",
        "range(20)"
      ],
      "metadata": {
        "colab": {
          "base_uri": "https://localhost:8080/"
        },
        "id": "vQCWtQ2Excrj",
        "outputId": "de824c1e-4f88-4189-d76d-b6174a936f35"
      },
      "execution_count": null,
      "outputs": [
        {
          "output_type": "execute_result",
          "data": {
            "text/plain": [
              "range(0, 20)"
            ]
          },
          "metadata": {},
          "execution_count": 78
        }
      ]
    },
    {
      "cell_type": "code",
      "source": [
        "# criando um array com linspace, stop (não exclusivo)\n",
        "np.linspace(0,20,num=30)"
      ],
      "metadata": {
        "colab": {
          "base_uri": "https://localhost:8080/"
        },
        "id": "C2nIIC8NraUI",
        "outputId": "a12bc538-1f1b-47ff-c2d8-677295c7062e"
      },
      "execution_count": null,
      "outputs": [
        {
          "output_type": "execute_result",
          "data": {
            "text/plain": [
              "array([ 0.        ,  0.68965517,  1.37931034,  2.06896552,  2.75862069,\n",
              "        3.44827586,  4.13793103,  4.82758621,  5.51724138,  6.20689655,\n",
              "        6.89655172,  7.5862069 ,  8.27586207,  8.96551724,  9.65517241,\n",
              "       10.34482759, 11.03448276, 11.72413793, 12.4137931 , 13.10344828,\n",
              "       13.79310345, 14.48275862, 15.17241379, 15.86206897, 16.55172414,\n",
              "       17.24137931, 17.93103448, 18.62068966, 19.31034483, 20.        ])"
            ]
          },
          "metadata": {},
          "execution_count": 91
        }
      ]
    },
    {
      "cell_type": "code",
      "source": [
        "# criando um array\n",
        "arr = np.array([2,5,20,1,55,33,76,20,10]) \n",
        "arr"
      ],
      "metadata": {
        "colab": {
          "base_uri": "https://localhost:8080/"
        },
        "id": "y_q9jdGGuAcF",
        "outputId": "7869a17b-8cfe-444c-a9be-8945717542d6"
      },
      "execution_count": null,
      "outputs": [
        {
          "output_type": "execute_result",
          "data": {
            "text/plain": [
              "array([ 2,  5, 20,  1, 55, 33, 76, 20, 10])"
            ]
          },
          "metadata": {},
          "execution_count": 92
        }
      ]
    },
    {
      "cell_type": "code",
      "source": [
        "# ordenando o array\n",
        "np.sort(arr)"
      ],
      "metadata": {
        "colab": {
          "base_uri": "https://localhost:8080/"
        },
        "id": "rch8E_OKuIBP",
        "outputId": "2c96a8da-a6f3-464a-b49c-c0bd5bd200e4"
      },
      "execution_count": null,
      "outputs": [
        {
          "output_type": "execute_result",
          "data": {
            "text/plain": [
              "array([ 1,  2,  5, 10, 20, 20, 33, 55, 76])"
            ]
          },
          "metadata": {},
          "execution_count": 97
        }
      ]
    },
    {
      "cell_type": "code",
      "source": [
        "# ordenando o array decrescente\n",
        "-np.sort(-arr)"
      ],
      "metadata": {
        "colab": {
          "base_uri": "https://localhost:8080/"
        },
        "id": "spWsoX8OzwYV",
        "outputId": "e77acc2a-835b-4739-a8b3-d1d74b714cb1"
      },
      "execution_count": null,
      "outputs": [
        {
          "output_type": "execute_result",
          "data": {
            "text/plain": [
              "array([76, 55, 33, 20, 20, 10,  5,  2,  1])"
            ]
          },
          "metadata": {},
          "execution_count": 99
        }
      ]
    },
    {
      "cell_type": "code",
      "source": [
        "# juntando arrays\n",
        "array_a = np.array([1,3,5,7])\n",
        "array_a"
      ],
      "metadata": {
        "colab": {
          "base_uri": "https://localhost:8080/"
        },
        "id": "9nA8lnlNt-ic",
        "outputId": "aa086b9e-1719-4acb-a8af-e2424b85967c"
      },
      "execution_count": null,
      "outputs": [
        {
          "output_type": "execute_result",
          "data": {
            "text/plain": [
              "array([1, 3, 5, 7])"
            ]
          },
          "metadata": {},
          "execution_count": 100
        }
      ]
    },
    {
      "cell_type": "code",
      "source": [
        "array_b = np.array([2,4,6,8])\n",
        "array_b"
      ],
      "metadata": {
        "colab": {
          "base_uri": "https://localhost:8080/"
        },
        "id": "G-pQkwdr0L3v",
        "outputId": "f0239b6d-201d-4521-b8e3-514675e2adc8"
      },
      "execution_count": null,
      "outputs": [
        {
          "output_type": "execute_result",
          "data": {
            "text/plain": [
              "array([2, 4, 6, 8])"
            ]
          },
          "metadata": {},
          "execution_count": 101
        }
      ]
    },
    {
      "cell_type": "code",
      "source": [
        "# contatenando sem ordenação\n",
        "np.concatenate((array_a,array_b))"
      ],
      "metadata": {
        "colab": {
          "base_uri": "https://localhost:8080/"
        },
        "id": "KbD1aqtL0Lva",
        "outputId": "fb3a80dc-3d6d-4198-f153-8f098d6b3c7e"
      },
      "execution_count": null,
      "outputs": [
        {
          "output_type": "execute_result",
          "data": {
            "text/plain": [
              "array([1, 3, 5, 7, 2, 4, 6, 8])"
            ]
          },
          "metadata": {},
          "execution_count": 104
        }
      ]
    },
    {
      "cell_type": "code",
      "source": [
        "# concatenando de forma ordenada\n",
        "np.sort(np.concatenate((array_a,array_b)))"
      ],
      "metadata": {
        "colab": {
          "base_uri": "https://localhost:8080/"
        },
        "id": "3XlksN_T0kNI",
        "outputId": "8edc910f-eddc-48b2-b4e9-1b19508981da"
      },
      "execution_count": null,
      "outputs": [
        {
          "output_type": "execute_result",
          "data": {
            "text/plain": [
              "array([1, 2, 3, 4, 5, 6, 7, 8])"
            ]
          },
          "metadata": {},
          "execution_count": 105
        }
      ]
    },
    {
      "cell_type": "code",
      "source": [
        "# verificando a dimensão de um array\n",
        "arr.ndim"
      ],
      "metadata": {
        "colab": {
          "base_uri": "https://localhost:8080/"
        },
        "id": "5y7SsKKMugGC",
        "outputId": "b51c1f74-5c4b-42d8-991d-979f76cf296f"
      },
      "execution_count": null,
      "outputs": [
        {
          "output_type": "execute_result",
          "data": {
            "text/plain": [
              "1"
            ]
          },
          "metadata": {},
          "execution_count": 107
        }
      ]
    },
    {
      "cell_type": "code",
      "source": [
        "# verificando o tamanho de um array\n",
        "arr.size"
      ],
      "metadata": {
        "colab": {
          "base_uri": "https://localhost:8080/"
        },
        "id": "U2x4NjxWumAH",
        "outputId": "1b6397d1-0a7c-46fa-be26-0bc3f69f0957"
      },
      "execution_count": null,
      "outputs": [
        {
          "output_type": "execute_result",
          "data": {
            "text/plain": [
              "9"
            ]
          },
          "metadata": {},
          "execution_count": 108
        }
      ]
    },
    {
      "cell_type": "code",
      "source": [
        "# verificando o tamanho de elementos e dimensões de um array\n",
        "arr.shape"
      ],
      "metadata": {
        "colab": {
          "base_uri": "https://localhost:8080/"
        },
        "id": "5zXdjRFyurZ6",
        "outputId": "325394bb-73e6-4917-ac31-314c75d1b8ed"
      },
      "execution_count": null,
      "outputs": [
        {
          "output_type": "execute_result",
          "data": {
            "text/plain": [
              "(9,)"
            ]
          },
          "metadata": {},
          "execution_count": 109
        }
      ]
    },
    {
      "cell_type": "code",
      "source": [
        "arr"
      ],
      "metadata": {
        "colab": {
          "base_uri": "https://localhost:8080/"
        },
        "id": "o0-eCghT1jBO",
        "outputId": "a97e503b-b4eb-41d9-c4bf-e957c5e3f89d"
      },
      "execution_count": null,
      "outputs": [
        {
          "output_type": "execute_result",
          "data": {
            "text/plain": [
              "array([ 2,  5, 20,  1, 55, 33, 76, 20, 10])"
            ]
          },
          "metadata": {},
          "execution_count": 112
        }
      ]
    },
    {
      "cell_type": "code",
      "source": [
        "# acessando array por indice, primeiro e último item\n",
        "arr[0], arr[-1]"
      ],
      "metadata": {
        "colab": {
          "base_uri": "https://localhost:8080/"
        },
        "id": "wEFYh5uuvI5U",
        "outputId": "e51191a8-5eca-4a0d-929b-1aaa7ac1871b"
      },
      "execution_count": null,
      "outputs": [
        {
          "output_type": "execute_result",
          "data": {
            "text/plain": [
              "(2, 10)"
            ]
          },
          "metadata": {},
          "execution_count": 111
        }
      ]
    },
    {
      "cell_type": "code",
      "source": [
        "# imprimindo lista com indices e valores\n",
        "for indice, valor in zip(np.arange(arr.size), arr):\n",
        "  print(f'Indice {indice} - Valor {valor}')"
      ],
      "metadata": {
        "colab": {
          "base_uri": "https://localhost:8080/"
        },
        "id": "sVNP4Njg1nje",
        "outputId": "3866ad9b-00e1-4539-d29a-4ff49a3bc8b2"
      },
      "execution_count": null,
      "outputs": [
        {
          "output_type": "stream",
          "name": "stdout",
          "text": [
            "Indice 0 - Valor 2\n",
            "Indice 1 - Valor 5\n",
            "Indice 2 - Valor 20\n",
            "Indice 3 - Valor 1\n",
            "Indice 4 - Valor 55\n",
            "Indice 5 - Valor 33\n",
            "Indice 6 - Valor 76\n",
            "Indice 7 - Valor 20\n",
            "Indice 8 - Valor 10\n"
          ]
        }
      ]
    },
    {
      "cell_type": "code",
      "source": [
        "# lista com zip de indice e valores\n",
        "list(zip(np.arange(arr.size), arr))"
      ],
      "metadata": {
        "colab": {
          "base_uri": "https://localhost:8080/"
        },
        "id": "mk081QEs2CIv",
        "outputId": "7de55a96-0a42-439f-a6b2-b684ed1788d3"
      },
      "execution_count": null,
      "outputs": [
        {
          "output_type": "execute_result",
          "data": {
            "text/plain": [
              "[(0, 2), (1, 5), (2, 20), (3, 1), (4, 55), (5, 33), (6, 76), (7, 20), (8, 10)]"
            ]
          },
          "metadata": {},
          "execution_count": 118
        }
      ]
    },
    {
      "cell_type": "code",
      "source": [
        "# fatiando o array\n",
        "arr[:4]"
      ],
      "metadata": {
        "colab": {
          "base_uri": "https://localhost:8080/"
        },
        "id": "f2F8TVwrvX_x",
        "outputId": "da7620db-bf0b-40d4-d029-c83c905d975b"
      },
      "execution_count": null,
      "outputs": [
        {
          "output_type": "execute_result",
          "data": {
            "text/plain": [
              "array([ 2,  5, 20,  1])"
            ]
          },
          "metadata": {},
          "execution_count": 120
        }
      ]
    },
    {
      "cell_type": "code",
      "source": [
        "arr[4:]"
      ],
      "metadata": {
        "colab": {
          "base_uri": "https://localhost:8080/"
        },
        "id": "gc1ADRXg3L8v",
        "outputId": "d6e894a3-a308-4e92-f02d-45150c634c7b"
      },
      "execution_count": null,
      "outputs": [
        {
          "output_type": "execute_result",
          "data": {
            "text/plain": [
              "array([55, 33, 76, 20, 10])"
            ]
          },
          "metadata": {},
          "execution_count": 121
        }
      ]
    },
    {
      "cell_type": "code",
      "source": [
        "arr[2:5]"
      ],
      "metadata": {
        "colab": {
          "base_uri": "https://localhost:8080/"
        },
        "id": "IK8-zUYM3R4D",
        "outputId": "ee9fab54-03b1-428e-d787-fab117659fe3"
      },
      "execution_count": null,
      "outputs": [
        {
          "output_type": "execute_result",
          "data": {
            "text/plain": [
              "array([20,  1, 55])"
            ]
          },
          "metadata": {},
          "execution_count": 122
        }
      ]
    },
    {
      "cell_type": "code",
      "source": [
        "# soma, maximo e minimo de um array\n",
        "sum(arr), max(arr), min(arr)"
      ],
      "metadata": {
        "colab": {
          "base_uri": "https://localhost:8080/"
        },
        "id": "O_eEG7Ubv6H6",
        "outputId": "7d925221-75d7-4daa-db2f-334f8d0b6f03"
      },
      "execution_count": null,
      "outputs": [
        {
          "output_type": "execute_result",
          "data": {
            "text/plain": [
              "(222, 76, 1)"
            ]
          },
          "metadata": {},
          "execution_count": 125
        }
      ]
    },
    {
      "cell_type": "code",
      "source": [
        "# copiando um array\n",
        "arr2 = arr"
      ],
      "metadata": {
        "id": "ZWVbmu5qvqUc"
      },
      "execution_count": null,
      "outputs": []
    },
    {
      "cell_type": "code",
      "source": [
        "arr2"
      ],
      "metadata": {
        "colab": {
          "base_uri": "https://localhost:8080/"
        },
        "id": "k-LG6MUW32Ry",
        "outputId": "846be49b-27d0-44ce-98ff-c211b10e6f3c"
      },
      "execution_count": null,
      "outputs": [
        {
          "output_type": "execute_result",
          "data": {
            "text/plain": [
              "array([ 2,  5, 20,  1, 55, 33, 76, 20, 10])"
            ]
          },
          "metadata": {},
          "execution_count": 128
        }
      ]
    },
    {
      "cell_type": "code",
      "source": [
        "arr"
      ],
      "metadata": {
        "colab": {
          "base_uri": "https://localhost:8080/"
        },
        "id": "atpCBQV83340",
        "outputId": "ae343670-0fb2-4dd3-a9f5-13054408fae5"
      },
      "execution_count": null,
      "outputs": [
        {
          "output_type": "execute_result",
          "data": {
            "text/plain": [
              "array([ 2,  5, 20,  1, 55, 33, 76, 20, 10])"
            ]
          },
          "metadata": {},
          "execution_count": 129
        }
      ]
    },
    {
      "cell_type": "code",
      "source": [
        "arr2 = arr.copy()"
      ],
      "metadata": {
        "id": "k9HW1R924BPV"
      },
      "execution_count": null,
      "outputs": []
    },
    {
      "cell_type": "code",
      "source": [
        "arr, arr2"
      ],
      "metadata": {
        "colab": {
          "base_uri": "https://localhost:8080/"
        },
        "id": "rSdMYqNR4Ghv",
        "outputId": "1e01fd28-3271-416a-adc4-4b77e098a611"
      },
      "execution_count": null,
      "outputs": [
        {
          "output_type": "execute_result",
          "data": {
            "text/plain": [
              "(array([ 2,  5, 20,  1, 55, 33, 76, 20, 10]),\n",
              " array([ 2,  5, 20,  1, 55, 33, 76, 20, 10]))"
            ]
          },
          "metadata": {},
          "execution_count": 131
        }
      ]
    },
    {
      "cell_type": "code",
      "source": [
        "# somando 2 arrays\n",
        "soma = arr + arr2\n",
        "soma"
      ],
      "metadata": {
        "colab": {
          "base_uri": "https://localhost:8080/"
        },
        "id": "5phIoSvJxSLW",
        "outputId": "f8419a1b-5624-46d9-ec50-dbea3c7f0ced"
      },
      "execution_count": null,
      "outputs": [
        {
          "output_type": "execute_result",
          "data": {
            "text/plain": [
              "array([  4,  10,  40,   2, 110,  66, 152,  40,  20])"
            ]
          },
          "metadata": {},
          "execution_count": 132
        }
      ]
    },
    {
      "cell_type": "code",
      "source": [
        "# NÃO é possível fazer operações com shapes diferentes\n",
        "arr + np.array([1,2,3,4])"
      ],
      "metadata": {
        "colab": {
          "base_uri": "https://localhost:8080/",
          "height": 166
        },
        "id": "Yy65SXqG4aiD",
        "outputId": "8b4ce73b-f5ef-4186-f496-895f27de76ae"
      },
      "execution_count": null,
      "outputs": [
        {
          "output_type": "error",
          "ename": "ValueError",
          "evalue": "ignored",
          "traceback": [
            "\u001b[0;31m---------------------------------------------------------------------------\u001b[0m",
            "\u001b[0;31mValueError\u001b[0m                                Traceback (most recent call last)",
            "\u001b[0;32m<ipython-input-133-3f21d15ba1ad>\u001b[0m in \u001b[0;36m<module>\u001b[0;34m\u001b[0m\n\u001b[0;32m----> 1\u001b[0;31m \u001b[0marr\u001b[0m \u001b[0;34m+\u001b[0m \u001b[0mnp\u001b[0m\u001b[0;34m.\u001b[0m\u001b[0marray\u001b[0m\u001b[0;34m(\u001b[0m\u001b[0;34m[\u001b[0m\u001b[0;36m1\u001b[0m\u001b[0;34m,\u001b[0m\u001b[0;36m2\u001b[0m\u001b[0;34m,\u001b[0m\u001b[0;36m3\u001b[0m\u001b[0;34m,\u001b[0m\u001b[0;36m4\u001b[0m\u001b[0;34m]\u001b[0m\u001b[0;34m)\u001b[0m\u001b[0;34m\u001b[0m\u001b[0;34m\u001b[0m\u001b[0m\n\u001b[0m",
            "\u001b[0;31mValueError\u001b[0m: operands could not be broadcast together with shapes (9,) (4,) "
          ]
        }
      ]
    },
    {
      "cell_type": "code",
      "source": [
        "# Completando o array para somar\n",
        "arr + np.concatenate((np.array([1,2,3,4]), np.zeros(5)))"
      ],
      "metadata": {
        "colab": {
          "base_uri": "https://localhost:8080/"
        },
        "id": "CWG29jJT47AO",
        "outputId": "8481b2f0-f16b-4818-de9c-d694b6c0bcb8"
      },
      "execution_count": null,
      "outputs": [
        {
          "output_type": "execute_result",
          "data": {
            "text/plain": [
              "array([ 3.,  7., 23.,  5., 55., 33., 76., 20., 10.])"
            ]
          },
          "metadata": {},
          "execution_count": 138
        }
      ]
    },
    {
      "cell_type": "code",
      "source": [
        "# subtraindo 2 arrays\n",
        "sub = arr - arr\n",
        "sub"
      ],
      "metadata": {
        "colab": {
          "base_uri": "https://localhost:8080/"
        },
        "id": "tn4ek0g4xbvx",
        "outputId": "19155e5c-f400-4e04-a6a6-5743dd5fef01"
      },
      "execution_count": null,
      "outputs": [
        {
          "output_type": "execute_result",
          "data": {
            "text/plain": [
              "array([0, 0, 0, 0, 0, 0, 0, 0, 0])"
            ]
          },
          "metadata": {},
          "execution_count": 139
        }
      ]
    },
    {
      "cell_type": "code",
      "source": [
        "# aplicando negativo em todos os elementos\n",
        "-arr"
      ],
      "metadata": {
        "colab": {
          "base_uri": "https://localhost:8080/"
        },
        "id": "akJgVaal5dIx",
        "outputId": "d60beb36-bc75-4fe1-a322-5e296f9fb589"
      },
      "execution_count": null,
      "outputs": [
        {
          "output_type": "execute_result",
          "data": {
            "text/plain": [
              "array([ -2,  -5, -20,  -1, -55, -33, -76, -20, -10])"
            ]
          },
          "metadata": {},
          "execution_count": 140
        }
      ]
    },
    {
      "cell_type": "code",
      "source": [
        "# multiplicando 2 arrays\n",
        "multi = arr * arr\n",
        "multi"
      ],
      "metadata": {
        "colab": {
          "base_uri": "https://localhost:8080/"
        },
        "id": "TxPNaMXbxhUG",
        "outputId": "fb127302-d88c-4346-a325-1215164e6b98"
      },
      "execution_count": null,
      "outputs": [
        {
          "output_type": "execute_result",
          "data": {
            "text/plain": [
              "array([   4,   25,  400,    1, 3025, 1089, 5776,  400,  100])"
            ]
          },
          "metadata": {},
          "execution_count": 141
        }
      ]
    },
    {
      "cell_type": "code",
      "source": [
        "# dividindo 2 arrays\n",
        "div = arr / arr\n",
        "div"
      ],
      "metadata": {
        "colab": {
          "base_uri": "https://localhost:8080/"
        },
        "id": "ilVGHtaSxrvL",
        "outputId": "a670f72c-5a41-4c07-8998-fead3dfdd55d"
      },
      "execution_count": null,
      "outputs": [
        {
          "output_type": "execute_result",
          "data": {
            "text/plain": [
              "array([1., 1., 1., 1., 1., 1., 1., 1., 1.])"
            ]
          },
          "metadata": {},
          "execution_count": 142
        }
      ]
    },
    {
      "cell_type": "code",
      "source": [
        "div = arr // arr\n",
        "div"
      ],
      "metadata": {
        "colab": {
          "base_uri": "https://localhost:8080/"
        },
        "id": "EKSSWzii55qZ",
        "outputId": "9efa2592-5a23-45b2-c505-69e75d15121a"
      },
      "execution_count": null,
      "outputs": [
        {
          "output_type": "execute_result",
          "data": {
            "text/plain": [
              "array([1, 1, 1, 1, 1, 1, 1, 1, 1])"
            ]
          },
          "metadata": {},
          "execution_count": 143
        }
      ]
    },
    {
      "cell_type": "code",
      "source": [
        "div = arr % arr\n",
        "div"
      ],
      "metadata": {
        "colab": {
          "base_uri": "https://localhost:8080/"
        },
        "id": "ApPvmuOZ55VH",
        "outputId": "dd3c35f2-5c1e-40ca-c374-11a1fb9ccb1c"
      },
      "execution_count": null,
      "outputs": [
        {
          "output_type": "execute_result",
          "data": {
            "text/plain": [
              "array([0, 0, 0, 0, 0, 0, 0, 0, 0])"
            ]
          },
          "metadata": {},
          "execution_count": 144
        }
      ]
    },
    {
      "cell_type": "code",
      "source": [
        "arr / np.array(2)"
      ],
      "metadata": {
        "colab": {
          "base_uri": "https://localhost:8080/"
        },
        "id": "8oGISllU6MPa",
        "outputId": "4b1536ff-ff2e-44de-d428-3d4c6bf73c3d"
      },
      "execution_count": null,
      "outputs": [
        {
          "output_type": "execute_result",
          "data": {
            "text/plain": [
              "array([ 1. ,  2.5, 10. ,  0.5, 27.5, 16.5, 38. , 10. ,  5. ])"
            ]
          },
          "metadata": {},
          "execution_count": 150
        }
      ]
    },
    {
      "cell_type": "code",
      "source": [
        "# dúvida sobre divisões com listas\n",
        "lista1 = [1,2,3]\n",
        "lista2 = [2]\n",
        "lista3 = [n/lista2[0] for n in lista1]"
      ],
      "metadata": {
        "id": "UHG3oVNd6o03"
      },
      "execution_count": null,
      "outputs": []
    },
    {
      "cell_type": "code",
      "source": [
        "lista3"
      ],
      "metadata": {
        "colab": {
          "base_uri": "https://localhost:8080/"
        },
        "id": "TqHHNQSu67u6",
        "outputId": "0b7ad344-b419-443a-86fc-64869bb2a2a7"
      },
      "execution_count": null,
      "outputs": [
        {
          "output_type": "execute_result",
          "data": {
            "text/plain": [
              "[0.5, 1.0, 1.5]"
            ]
          },
          "metadata": {},
          "execution_count": 152
        }
      ]
    },
    {
      "cell_type": "markdown",
      "source": [
        "### Estudo de Caso"
      ],
      "metadata": {
        "id": "dzXtB6Vex9jJ"
      }
    },
    {
      "cell_type": "markdown",
      "source": [
        "Como criar um array a partir de uma lista, expor suas informações (dimensões e elementos), identificar elementos específicos e realizar operações matemáticas?"
      ],
      "metadata": {
        "id": "Kkz5-lBTx__Z"
      }
    },
    {
      "cell_type": "code",
      "source": [
        "lista = [1,3,6,33,55,90,77,45,32,12,4]"
      ],
      "metadata": {
        "id": "ddh4yweKyA9H"
      },
      "execution_count": null,
      "outputs": []
    },
    {
      "cell_type": "code",
      "source": [
        "array_lista = np.array(lista)\n",
        "array_lista"
      ],
      "metadata": {
        "id": "mRxtlTzbyBWR",
        "colab": {
          "base_uri": "https://localhost:8080/"
        },
        "outputId": "40d690e6-49e7-4080-8c87-f75066944e6f"
      },
      "execution_count": null,
      "outputs": [
        {
          "output_type": "execute_result",
          "data": {
            "text/plain": [
              "array([ 1,  3,  6, 33, 55, 90, 77, 45, 32, 12,  4])"
            ]
          },
          "metadata": {},
          "execution_count": 156
        }
      ]
    },
    {
      "cell_type": "code",
      "source": [
        "np.sort(array_lista)"
      ],
      "metadata": {
        "colab": {
          "base_uri": "https://localhost:8080/"
        },
        "id": "an-hUpij_r59",
        "outputId": "97de662e-c8ad-4504-bf71-5fb67a7ff191"
      },
      "execution_count": null,
      "outputs": [
        {
          "output_type": "execute_result",
          "data": {
            "text/plain": [
              "array([ 1,  3,  4,  6, 12, 32, 33, 45, 55, 77, 90])"
            ]
          },
          "metadata": {},
          "execution_count": 157
        }
      ]
    },
    {
      "cell_type": "code",
      "source": [
        "array_lista"
      ],
      "metadata": {
        "id": "wQGSkXSkyBQQ",
        "colab": {
          "base_uri": "https://localhost:8080/"
        },
        "outputId": "ba8f00f8-a3a9-46bb-f1a8-129228ea3d4c"
      },
      "execution_count": null,
      "outputs": [
        {
          "output_type": "execute_result",
          "data": {
            "text/plain": [
              "array([ 1,  3,  6, 33, 55, 90, 77, 45, 32, 12,  4])"
            ]
          },
          "metadata": {},
          "execution_count": 158
        }
      ]
    },
    {
      "cell_type": "code",
      "source": [
        "array_lista.shape, array_lista.size, array_lista.ndim"
      ],
      "metadata": {
        "colab": {
          "base_uri": "https://localhost:8080/"
        },
        "id": "En65wd07nEzo",
        "outputId": "66aa4b8f-4b2f-4972-ca7e-dc634089ec89"
      },
      "execution_count": null,
      "outputs": [
        {
          "output_type": "execute_result",
          "data": {
            "text/plain": [
              "((11,), 11, 1)"
            ]
          },
          "metadata": {},
          "execution_count": 161
        }
      ]
    },
    {
      "cell_type": "code",
      "source": [
        "array_lista[3]"
      ],
      "metadata": {
        "colab": {
          "base_uri": "https://localhost:8080/"
        },
        "id": "AdZ8l9KjAcBd",
        "outputId": "ee785f5e-4527-4f2c-a7a8-fff844ef581e"
      },
      "execution_count": null,
      "outputs": [
        {
          "output_type": "execute_result",
          "data": {
            "text/plain": [
              "33"
            ]
          },
          "metadata": {},
          "execution_count": 162
        }
      ]
    },
    {
      "cell_type": "code",
      "source": [
        "array_lista[4]"
      ],
      "metadata": {
        "colab": {
          "base_uri": "https://localhost:8080/"
        },
        "id": "cnBR9DCRwOeU",
        "outputId": "1b553907-2ade-449a-b8c1-6dd75b587c1d"
      },
      "execution_count": null,
      "outputs": [
        {
          "output_type": "execute_result",
          "data": {
            "text/plain": [
              "55"
            ]
          },
          "metadata": {},
          "execution_count": 163
        }
      ]
    },
    {
      "cell_type": "code",
      "source": [
        "array_lista + array_lista"
      ],
      "metadata": {
        "colab": {
          "base_uri": "https://localhost:8080/"
        },
        "id": "wbxh-r5hwOXV",
        "outputId": "d5e9f8c3-4977-4c71-a186-822eedc54ef6"
      },
      "execution_count": null,
      "outputs": [
        {
          "output_type": "execute_result",
          "data": {
            "text/plain": [
              "array([  2,   6,  12,  66, 110, 180, 154,  90,  64,  24,   8])"
            ]
          },
          "metadata": {},
          "execution_count": 164
        }
      ]
    },
    {
      "cell_type": "code",
      "source": [
        "array_lista + 10"
      ],
      "metadata": {
        "colab": {
          "base_uri": "https://localhost:8080/"
        },
        "id": "sT0h6iW7wNz1",
        "outputId": "684ca993-dd73-4d40-b458-5232fd5d3f3f"
      },
      "execution_count": null,
      "outputs": [
        {
          "output_type": "execute_result",
          "data": {
            "text/plain": [
              "array([ 11,  13,  16,  43,  65, 100,  87,  55,  42,  22,  14])"
            ]
          },
          "metadata": {},
          "execution_count": 165
        }
      ]
    },
    {
      "cell_type": "code",
      "source": [
        "array_lista * array_lista"
      ],
      "metadata": {
        "colab": {
          "base_uri": "https://localhost:8080/"
        },
        "id": "e7MS0bN9wWKU",
        "outputId": "d26c36d3-fde4-4e7e-c7eb-6e8275fc5631"
      },
      "execution_count": null,
      "outputs": [
        {
          "output_type": "execute_result",
          "data": {
            "text/plain": [
              "array([   1,    9,   36, 1089, 3025, 8100, 5929, 2025, 1024,  144,   16])"
            ]
          },
          "metadata": {},
          "execution_count": 166
        }
      ]
    },
    {
      "cell_type": "code",
      "source": [
        "array_lista * 10"
      ],
      "metadata": {
        "colab": {
          "base_uri": "https://localhost:8080/"
        },
        "id": "_oigSWfYwZHF",
        "outputId": "bdd7ebe8-62f1-466e-cc05-cd2c8e85b41c"
      },
      "execution_count": null,
      "outputs": [
        {
          "output_type": "execute_result",
          "data": {
            "text/plain": [
              "array([ 10,  30,  60, 330, 550, 900, 770, 450, 320, 120,  40])"
            ]
          },
          "metadata": {},
          "execution_count": 167
        }
      ]
    },
    {
      "cell_type": "markdown",
      "source": [
        "## Atividade"
      ],
      "metadata": {
        "id": "N4HZ2tUTo-Gt"
      }
    },
    {
      "cell_type": "markdown",
      "source": [
        "**Questão 1 -** Crie uma lista do Python que contenha 30 inteiros aleatórios (entre 0 e 100). Em seguida, a partir da lista criada anteriormente, crie um array do Numpy, utilizando a função array."
      ],
      "metadata": {
        "id": "3aCoUmR1pAtt"
      }
    },
    {
      "cell_type": "code",
      "source": [],
      "metadata": {
        "id": "OK6hSEmUpHY3"
      },
      "execution_count": null,
      "outputs": []
    },
    {
      "cell_type": "code",
      "source": [],
      "metadata": {
        "id": "0k7lveKPqq-s"
      },
      "execution_count": null,
      "outputs": []
    },
    {
      "cell_type": "code",
      "source": [],
      "metadata": {
        "id": "Lf0QPVOSqq15"
      },
      "execution_count": null,
      "outputs": []
    },
    {
      "cell_type": "code",
      "source": [],
      "metadata": {
        "id": "QNPHBudirBxk"
      },
      "execution_count": null,
      "outputs": []
    },
    {
      "cell_type": "code",
      "source": [
        "# números aleatórios entre 0 e 1\n"
      ],
      "metadata": {
        "id": "qdJFHvaqyWQi"
      },
      "execution_count": null,
      "outputs": []
    },
    {
      "cell_type": "code",
      "source": [
        "# números aleatórios inteiros\n"
      ],
      "metadata": {
        "id": "ptbQZvf5ydHX"
      },
      "execution_count": null,
      "outputs": []
    },
    {
      "cell_type": "markdown",
      "source": [
        "**Questão 2 -** Crie um array com 10 elementos (iniciando em zero), em que os elementos tenham um intervalo de 3 unidades entre si."
      ],
      "metadata": {
        "id": "AWBoXsoapOzx"
      }
    },
    {
      "cell_type": "code",
      "source": [],
      "metadata": {
        "id": "oCL7CA9-pUtK"
      },
      "execution_count": null,
      "outputs": []
    },
    {
      "cell_type": "markdown",
      "source": [
        "**Questão 3 -** Para o array aleatório gerado na questão 1, obtenha:\n",
        "* O primeiro item\n",
        "* O último item\n",
        "* O valor mínimo\n",
        "* O valor máximo\n",
        "* A posição do valor mínimo\n",
        "* A posição do valor máximo\n"
      ],
      "metadata": {
        "id": "mTIxEcMrphLu"
      }
    },
    {
      "cell_type": "code",
      "source": [],
      "metadata": {
        "id": "TRyjGYHdptOK"
      },
      "execution_count": null,
      "outputs": []
    },
    {
      "cell_type": "code",
      "source": [
        "# O primeiro item\n"
      ],
      "metadata": {
        "id": "Cm0QiijvsIBS"
      },
      "execution_count": null,
      "outputs": []
    },
    {
      "cell_type": "code",
      "source": [
        "# O último item\n"
      ],
      "metadata": {
        "id": "F9j_OY4isH8v"
      },
      "execution_count": null,
      "outputs": []
    },
    {
      "cell_type": "code",
      "source": [
        "# O valor mínimo\n"
      ],
      "metadata": {
        "id": "x0EONr7msH4L"
      },
      "execution_count": null,
      "outputs": []
    },
    {
      "cell_type": "code",
      "source": [
        "# O valor máximo\n"
      ],
      "metadata": {
        "id": "pZNZtBN8sH0C"
      },
      "execution_count": null,
      "outputs": []
    },
    {
      "cell_type": "code",
      "source": [
        "# A posição do valor mínimo\n"
      ],
      "metadata": {
        "id": "VyXklyxSsHvz"
      },
      "execution_count": null,
      "outputs": []
    },
    {
      "cell_type": "code",
      "source": [],
      "metadata": {
        "id": "IHJ_8Lqys7fN"
      },
      "execution_count": null,
      "outputs": []
    },
    {
      "cell_type": "code",
      "source": [
        "# A posição do valor máximo\n"
      ],
      "metadata": {
        "id": "kL4ifJcSsHqj"
      },
      "execution_count": null,
      "outputs": []
    },
    {
      "cell_type": "code",
      "source": [],
      "metadata": {
        "id": "k9Zsf6NutDda"
      },
      "execution_count": null,
      "outputs": []
    },
    {
      "cell_type": "markdown",
      "source": [
        "**Questão 4 -** Para o array aleatório gerado na questão 2, obtenha:\n",
        "* A soma\n",
        "* A média\n",
        "* A mediana\n",
        "* A variância\n",
        "* O desvio padrão"
      ],
      "metadata": {
        "id": "Y7LAbEzWptsC"
      }
    },
    {
      "cell_type": "code",
      "source": [],
      "metadata": {
        "id": "-BWdbOy6qTTH"
      },
      "execution_count": null,
      "outputs": []
    },
    {
      "cell_type": "code",
      "source": [
        "# soma\n"
      ],
      "metadata": {
        "id": "oO3zVjSAtyKa"
      },
      "execution_count": null,
      "outputs": []
    },
    {
      "cell_type": "code",
      "source": [
        "# media\n"
      ],
      "metadata": {
        "id": "mCJbe8lmtx-9"
      },
      "execution_count": null,
      "outputs": []
    },
    {
      "cell_type": "code",
      "source": [
        "# mediana\n"
      ],
      "metadata": {
        "id": "zwKzvq2Otx11"
      },
      "execution_count": null,
      "outputs": []
    },
    {
      "cell_type": "code",
      "source": [
        "# variancia\n"
      ],
      "metadata": {
        "id": "eStEjcmMtxjL"
      },
      "execution_count": null,
      "outputs": []
    },
    {
      "cell_type": "code",
      "source": [
        "# desvio padrao\n"
      ],
      "metadata": {
        "id": "Ni0FnGuPtxZK"
      },
      "execution_count": null,
      "outputs": []
    },
    {
      "cell_type": "markdown",
      "source": [
        "**Questão 5 -** Solicite um input do usuário de 10 números separados por vírgula, crie um array somente com os números pares e impirma o resultado para o usuário."
      ],
      "metadata": {
        "id": "z1J0XgJJwuE0"
      }
    },
    {
      "cell_type": "code",
      "source": [],
      "metadata": {
        "id": "rCZ6af0TxGSn"
      },
      "execution_count": null,
      "outputs": []
    },
    {
      "cell_type": "code",
      "source": [],
      "metadata": {
        "id": "W3VLVW-fxPtL"
      },
      "execution_count": null,
      "outputs": []
    },
    {
      "cell_type": "code",
      "source": [],
      "metadata": {
        "id": "DGImW10DxROY"
      },
      "execution_count": null,
      "outputs": []
    },
    {
      "cell_type": "code",
      "source": [],
      "metadata": {
        "id": "2VDnTOVBxoNH"
      },
      "execution_count": null,
      "outputs": []
    }
  ]
}